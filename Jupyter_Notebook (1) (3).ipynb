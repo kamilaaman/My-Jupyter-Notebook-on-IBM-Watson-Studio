{
 "cells": [
  {
   "cell_type": "markdown",
   "metadata": {},
   "source": [
    "<center>\n",
    "    <img src=\"https://s3-api.us-geo.objectstorage.softlayer.net/cf-courses-data/CognitiveClass/Logos/organization_logo/organization_logo.png\" width=\"300\" alt=\"cognitiveclass.ai logo\"  />\n",
    "</center>\n"
   ]
  },
  {
   "cell_type": "markdown",
   "metadata": {
    "tags": []
   },
   "source": [
    "#### Add your code below following the instructions given in the course\n"
   ]
  },
  {
   "cell_type": "markdown",
   "metadata": {},
   "source": [
    "# My Jupyter Notebook on IBM Watson Studio"
   ]
  },
  {
   "cell_type": "markdown",
   "metadata": {},
   "source": [
    "** Kamila Amanbayeva **"
   ]
  },
  {
   "cell_type": "markdown",
   "metadata": {},
   "source": [
    "_I am interested in data science because I love to explore_"
   ]
  },
  {
   "cell_type": "markdown",
   "metadata": {},
   "source": [
    "### The next cell will calculate how much money I will pay for a university semester"
   ]
  },
  {
   "cell_type": "code",
   "execution_count": null,
   "metadata": {},
   "outputs": [],
   "source": [
    "number_of_credits = 26\n",
    "cost_per_credit = 8600\n",
    "\n",
    "total_cost = number_of_credits*cost_per_credit\n",
    "\n",
    "print('In the next semester Kamila is going to pay total_cost ')"
   ]
  },
  {
   "cell_type": "markdown",
   "metadata": {},
   "source": [
    "![university](https://upload.wikimedia.org/wikipedia/commons/0/0c/MIT_logo.svg)\n",
    "\n",
    "** Top ranking university in the world **\n",
    "\n",
    "* Official website](https://web.mit.edu/)<br>\n",
    "<s> * Official </s>\n",
    "___\n",
    "### Top ranking \n",
    "1. MIT\n",
    "2. Oxford\n",
    "3. Stanford\n",
    "4. Cambridge\n",
    "5. Harvard\n",
    "___\n",
    "### .[Countries].(https://www.topuniversities.com/university-rankings/world-university-rankings/2022)\n",
    "- US\n",
    "- UK\n",
    "- Switzerland\n",
    "- Singapore\n",
    "___\n",
    "### PhD programs\n",
    "All "
   ]
  }
 ],
 "metadata": {
  "kernelspec": {
   "display_name": "Python",
   "language": "python",
   "name": "conda-env-python-py"
  },
  "language_info": {
   "codemirror_mode": {
    "name": "ipython",
    "version": 3
   },
   "file_extension": ".py",
   "mimetype": "text/x-python",
   "name": "python",
   "nbconvert_exporter": "python",
   "pygments_lexer": "ipython3",
   "version": "3.7.12"
  }
 },
 "nbformat": 4,
 "nbformat_minor": 4
}
